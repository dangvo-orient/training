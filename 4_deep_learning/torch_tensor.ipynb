{
 "cells": [
  {
   "cell_type": "code",
   "execution_count": 1,
   "id": "f07107cc",
   "metadata": {},
   "outputs": [],
   "source": [
    "import torch\n",
    "\n",
    "device = \"cuda\" if torch.cuda.is_available() else \"cpu\""
   ]
  },
  {
   "cell_type": "code",
   "execution_count": 2,
   "id": "9437efb0",
   "metadata": {},
   "outputs": [
    {
     "name": "stdout",
     "output_type": "stream",
     "text": [
      "tensor([1., 3., 5., 7., 9.], requires_grad=True)\n",
      "torch.float32\n",
      "cpu\n",
      "torch.Size([5])\n",
      "True\n"
     ]
    }
   ],
   "source": [
    "tensor = torch.arange(1, 10, 2, dtype=torch.float32, device=device, requires_grad=True)\n",
    "\n",
    "print(tensor)\n",
    "print(tensor.dtype)\n",
    "print(tensor.device)\n",
    "print(tensor.shape)\n",
    "print(tensor.requires_grad)"
   ]
  },
  {
   "cell_type": "code",
   "execution_count": null,
   "id": "d82ed56f",
   "metadata": {},
   "outputs": [
    {
     "name": "stdout",
     "output_type": "stream",
     "text": [
      "empty:\n",
      "tensor([[3.9872e-13, 0.0000e+00, 0.0000e+00],\n",
      "        [0.0000e+00, 4.4842e-44, 0.0000e+00]])\n",
      "\n",
      "zeros:\n",
      "tensor([[0., 0., 0.],\n",
      "        [0., 0., 0.]])\n",
      "\n",
      "ones:\n",
      "tensor([[1., 1., 1.],\n",
      "        [1., 1., 1.]])\n",
      "\n",
      "full:\n",
      "tensor([[10, 10, 10],\n",
      "        [10, 10, 10]])\n",
      "\n",
      "rand:\n",
      "tensor([[0.7366, 0.2152, 0.2668, 0.7426, 0.7543],\n",
      "        [0.9588, 0.8689, 0.5684, 0.5189, 0.6131],\n",
      "        [0.4844, 0.8749, 0.0458, 0.2407, 0.3235]])\n",
      "\n",
      "randn:\n",
      "tensor([[ 0.6320,  0.4125,  0.9879, -1.6783,  0.2526],\n",
      "        [ 0.9923, -0.2880, -0.1074, -0.6524,  0.4419],\n",
      "        [ 0.6643, -1.9167,  0.1597,  0.1707,  0.1039]])\n",
      "\n",
      "randint:\n",
      "tensor([[-1, -3,  3, -2, -1],\n",
      "        [-2,  3,  1, -4, -4],\n",
      "        [ 2,  3, -1, -2,  0]])\n",
      "\n",
      "eye:\n",
      "tensor([[1., 0.],\n",
      "        [0., 1.],\n",
      "        [0., 0.],\n",
      "        [0., 0.]])\n",
      "\n",
      "linspace:\n",
      "tensor([[ 1.0000,  1.4737,  1.9474,  2.4211,  2.8947],\n",
      "        [ 3.3684,  3.8421,  4.3158,  4.7895,  5.2632],\n",
      "        [ 5.7368,  6.2105,  6.6842,  7.1579,  7.6316],\n",
      "        [ 8.1053,  8.5789,  9.0526,  9.5263, 10.0000]])\n",
      "\n",
      "empty:\n",
      "tensor([[-0.4525, -7.0545, 10.0762, -2.1604,  6.5841]])\n",
      "\n",
      "tensor([[0, 1, 2],\n",
      "        [3, 4, 5]])\n",
      "fill:\n",
      "tensor([[3, 3, 3],\n",
      "        [3, 3, 3]])\n",
      "\n",
      "diag:\n",
      "tensor([0, 4])\n",
      "\n",
      "transpose:\n",
      "tensor([[0, 3],\n",
      "        [1, 4],\n",
      "        [2, 5]])\n",
      "\n",
      "transpose:\n",
      "tensor([[0, 3],\n",
      "        [1, 4],\n",
      "        [2, 5]])\n",
      "\n",
      "permutation:\n",
      "tensor([[0, 3],\n",
      "        [1, 4],\n",
      "        [2, 5]])\n",
      "\n"
     ]
    }
   ],
   "source": [
    "def out(name, tensor):\n",
    "    print(f'{name}:', tensor, sep='\\n', end='\\n\\n')\n",
    "\n",
    "# other\n",
    "out(\"empty\", torch.empty(2, 3))  # uninitialized data\n",
    "out(\"zeros\", torch.zeros(2, 3))\n",
    "out(\"ones\", torch.ones(2, 3))\n",
    "out(\"full\", torch.full((2, 3), 10))\n",
    "out(\"rand\", torch.rand(3, 5))\n",
    "out(\"randn\", torch.randn(3, 5))\n",
    "out(\"randint\", torch.randint(-4, 4, (3, 5)))\n",
    "out(\"eye\", torch.eye(4, 2))\n",
    "out(\"linspace\", torch.linspace(1, 10, 20).reshape(4, 5))\n",
    "out(\"empty\", torch.empty(1, 5).normal_(mean=3, std=10))\n",
    "\n",
    "x = torch.arange(6).reshape(2, 3)\n",
    "print(x)\n",
    "out(\"fill\", torch.fill(x, 3))\n",
    "out(\"diag\", torch.diag(x))\n",
    "out(\"transpose\", x.T)  # special case of permute\n",
    "out(\"transpose\", x.t())\n",
    "out(\"permutation\", x.permute(1, 0))"
   ]
  },
  {
   "cell_type": "code",
   "execution_count": 17,
   "id": "389d8417",
   "metadata": {},
   "outputs": [
    {
     "name": "stdout",
     "output_type": "stream",
     "text": [
      "tensor([False,  True,  True])\n",
      "tensor([0, 1, 2], dtype=torch.int16)\n",
      "tensor([0, 1, 2], dtype=torch.int32)\n",
      "tensor([0, 1, 2])\n",
      "tensor([0., 1., 2.], dtype=torch.float16)\n",
      "tensor([0., 1., 2.])\n",
      "tensor([0., 1., 2.], dtype=torch.float64)\n"
     ]
    }
   ],
   "source": [
    "x = torch.arange(3)\n",
    "print(x.bool())\n",
    "print(x.short())  # int16\n",
    "print(x.int())  # int32\n",
    "print(x.long())  # int64\n",
    "print(x.half())  # float16\n",
    "print(x.float())  # float32\n",
    "print(x.double())  # float64"
   ]
  },
  {
   "cell_type": "code",
   "execution_count": null,
   "id": "7d48ee4f",
   "metadata": {},
   "outputs": [
    {
     "name": "stdout",
     "output_type": "stream",
     "text": [
      "tensor([6, 6, 6])\n",
      "tensor([6, 6, 6])\n",
      "tensor([5, 4, 3])\n"
     ]
    }
   ],
   "source": [
    "# method -> normal method\n",
    "# method_ -> in-place method\n",
    "x = torch.tensor([1,2,3])\n",
    "y = torch.tensor([5,4,3])\n",
    "\n",
    "z = torch.add(x, y)\n",
    "z = x.add(y)\n",
    "z = x.add_(y)\n",
    "print(z)\n",
    "print(x)\n",
    "print(y)\n",
    "\n",
    "# element wise mul\n",
    "z = x * y\n",
    "\n",
    "# dot product\n",
    "z = torch.dot(x, y)\n",
    "\n",
    "# matrix multiplication\n",
    "x1 = torch.rand(2, 3)\n",
    "x2 = torch.rand(3, 5)\n",
    "z = torch.mm(x1, x2)  # 2x5\n",
    "\n",
    "# batch matrix mul\n",
    "batch = 32\n",
    "n = 10\n",
    "m = 20\n",
    "p = 30\n",
    "\n",
    "tensor1 = torch.rand(batch, n, m)\n",
    "tensor2 = torch.rand(batch, m, p)\n",
    "out = torch.bmm(tensor1, tensor2)  # (batch, n, p)\n",
    "\n",
    "# broadcasting -> automatic expansion of tensor dimensions so that they can be compatible for element-wise operations\n",
    "x1 = torch.rand(4,5)\n",
    "x2 = torch.rand(1,5)\n",
    "z = x1 - x2"
   ]
  },
  {
   "cell_type": "code",
   "execution_count": 26,
   "id": "5095da4f",
   "metadata": {},
   "outputs": [
    {
     "name": "stdout",
     "output_type": "stream",
     "text": [
      "tensor([5, 2, 6, 3, 7, 9])\n",
      "tensor(9) tensor(5)\n"
     ]
    }
   ],
   "source": [
    "x = torch.randint(10, (6,))\n",
    "values, ids = torch.max(x, dim=0)\n",
    "\n",
    "print(x)\n",
    "print(values, ids)"
   ]
  }
 ],
 "metadata": {
  "kernelspec": {
   "display_name": ".venv",
   "language": "python",
   "name": "python3"
  },
  "language_info": {
   "codemirror_mode": {
    "name": "ipython",
    "version": 3
   },
   "file_extension": ".py",
   "mimetype": "text/x-python",
   "name": "python",
   "nbconvert_exporter": "python",
   "pygments_lexer": "ipython3",
   "version": "3.12.3"
  }
 },
 "nbformat": 4,
 "nbformat_minor": 5
}
